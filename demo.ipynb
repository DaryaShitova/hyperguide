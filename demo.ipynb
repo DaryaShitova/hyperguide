{
 "cells": [
  {
   "cell_type": "code",
   "execution_count": 1,
   "id": "3f64e3b8",
   "metadata": {},
   "outputs": [],
   "source": [
    "from hyperguide import Hyper_Parameter_Provenance\n",
    "from utils import prepare_dataset"
   ]
  },
  {
   "cell_type": "code",
   "execution_count": 2,
   "id": "9a5e0646",
   "metadata": {},
   "outputs": [
    {
     "name": "stderr",
     "output_type": "stream",
     "text": [
      "/Users/daryashitova/Documents/BA_AI/WS21:22/Practical_Work_in_AI/current_version_folder/hyperguide-main/utils.py:9: FutureWarning: In a future version of pandas all arguments of DataFrame.dropna will be keyword-only.\n",
      "  data_df.dropna(0, inplace=True)\n"
     ]
    }
   ],
   "source": [
    "#splits either iris ('iris') or penguins ('penguins') dataset into test and train datasets\n",
    "dataset_name = 'iris'\n",
    "X_train, X_test, y_train, y_test=prepare_dataset(dataset_name)"
   ]
  },
  {
   "cell_type": "code",
   "execution_count": 3,
   "id": "98658d4e",
   "metadata": {},
   "outputs": [],
   "source": [
    "ui = Hyper_Parameter_Provenance(X_train, X_test, y_train, y_test, dataset_name)"
   ]
  },
  {
   "cell_type": "code",
   "execution_count": 4,
   "id": "706e2d6d",
   "metadata": {
    "pycharm": {
     "name": "#%%\n"
    },
    "scrolled": false
   },
   "outputs": [
    {
     "data": {
      "application/vnd.jupyter.widget-view+json": {
       "model_id": "17c140d3808044bdbe4b474c27df4909",
       "version_major": 2,
       "version_minor": 0
      },
      "text/plain": [
       "VBox(children=(HTML(value='<h1>What kind of algorithm do you want to use?</h1>'), Box(children=(Button(descrip…"
      ]
     },
     "metadata": {},
     "output_type": "display_data"
    },
    {
     "name": "stderr",
     "output_type": "stream",
     "text": [
      "/Users/daryashitova/Documents/BA_AI/WS21:22/Practical_Work_in_AI/current_version_folder/hyperguide-main/hyperguide.py:1115: FutureWarning: The frame.append method is deprecated and will be removed from pandas in a future version. Use pandas.concat instead.\n",
      "  df_class_rf_def = df_class_rf_def.append({'n_estimators': 100, 'criterion': 'gini',\n"
     ]
    }
   ],
   "source": [
    "ui.init()"
   ]
  },
  {
   "cell_type": "code",
   "execution_count": null,
   "id": "f1d06f35",
   "metadata": {},
   "outputs": [],
   "source": []
  },
  {
   "cell_type": "code",
   "execution_count": null,
   "id": "e8c344f1",
   "metadata": {},
   "outputs": [],
   "source": []
  }
 ],
 "metadata": {
  "kernelspec": {
   "display_name": "Python 3 (ipykernel)",
   "language": "python",
   "name": "python3"
  },
  "language_info": {
   "codemirror_mode": {
    "name": "ipython",
    "version": 3
   },
   "file_extension": ".py",
   "mimetype": "text/x-python",
   "name": "python",
   "nbconvert_exporter": "python",
   "pygments_lexer": "ipython3",
   "version": "3.8.12"
  }
 },
 "nbformat": 4,
 "nbformat_minor": 5
}
