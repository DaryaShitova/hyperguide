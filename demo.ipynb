{
 "cells": [
  {
   "cell_type": "code",
   "execution_count": 1,
   "id": "3f64e3b8",
   "metadata": {},
   "outputs": [],
   "source": [
    "from hyperguide import Hyper_Parameter_Guide\n",
    "from utils import prepare_dataset"
   ]
  },
  {
   "cell_type": "code",
   "execution_count": 2,
   "id": "9a5e0646",
   "metadata": {},
   "outputs": [],
   "source": [
    "#splits either iris ('iris') or penguins ('penguins') dataset into test and train datasets\n",
    "dataset_name = 'iris'\n",
    "X_train, X_test, y_train, y_test=prepare_dataset(dataset_name)"
   ]
  },
  {
   "cell_type": "code",
   "execution_count": 3,
   "id": "98658d4e",
   "metadata": {},
   "outputs": [],
   "source": [
    "demo = Hyper_Parameter_Guide(X_train, X_test, y_train, y_test, dataset_name)"
   ]
  },
  {
   "cell_type": "code",
   "execution_count": 4,
   "id": "706e2d6d",
   "metadata": {
    "pycharm": {
     "name": "#%%\n"
    },
    "scrolled": false
   },
   "outputs": [
    {
     "data": {
      "application/vnd.jupyter.widget-view+json": {
       "model_id": "986cf8096c914b44a26f189079407fc3",
       "version_major": 2,
       "version_minor": 0
      },
      "text/plain": [
       "VBox(children=(HTML(value='<h1>What kind of algorithm do you want to use?</h1>'), Box(children=(Button(descrip…"
      ]
     },
     "metadata": {},
     "output_type": "display_data"
    }
   ],
   "source": [
    "demo.init()"
   ]
  },
  {
   "cell_type": "code",
   "execution_count": null,
   "id": "585f141a",
   "metadata": {},
   "outputs": [],
   "source": []
  }
 ],
 "metadata": {
  "kernelspec": {
   "display_name": "Python 3 (ipykernel)",
   "language": "python",
   "name": "python3"
  },
  "language_info": {
   "codemirror_mode": {
    "name": "ipython",
    "version": 3
   },
   "file_extension": ".py",
   "mimetype": "text/x-python",
   "name": "python",
   "nbconvert_exporter": "python",
   "pygments_lexer": "ipython3",
   "version": "3.8.12"
  }
 },
 "nbformat": 4,
 "nbformat_minor": 5
}
